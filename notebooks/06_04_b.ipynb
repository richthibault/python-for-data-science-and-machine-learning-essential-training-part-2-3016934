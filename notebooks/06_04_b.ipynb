{
 "cells": [
  {
   "cell_type": "markdown",
   "metadata": {},
   "source": [
    "Introduction to NLP"
   ]
  },
  {
   "cell_type": "code",
   "execution_count": 1,
   "metadata": {},
   "outputs": [
    {
     "name": "stdout",
     "output_type": "stream",
     "text": [
      "Defaulting to user installation because normal site-packages is not writeable\n",
      "Collecting nltk\n",
      "  Downloading nltk-3.9.1-py3-none-any.whl.metadata (2.9 kB)\n",
      "Collecting click (from nltk)\n",
      "  Downloading click-8.1.7-py3-none-any.whl.metadata (3.0 kB)\n",
      "Requirement already satisfied: joblib in /home/vscode/.local/lib/python3.12/site-packages (from nltk) (1.4.2)\n",
      "Collecting regex>=2021.8.3 (from nltk)\n",
      "  Downloading regex-2024.11.6-cp312-cp312-manylinux_2_17_x86_64.manylinux2014_x86_64.whl.metadata (40 kB)\n",
      "Collecting tqdm (from nltk)\n",
      "  Downloading tqdm-4.67.1-py3-none-any.whl.metadata (57 kB)\n",
      "Downloading nltk-3.9.1-py3-none-any.whl (1.5 MB)\n",
      "\u001b[2K   \u001b[90m━━━━━━━━━━━━━━━━━━━━━━━━━━━━━━━━━━━━━━━━\u001b[0m \u001b[32m1.5/1.5 MB\u001b[0m \u001b[31m16.8 MB/s\u001b[0m eta \u001b[36m0:00:00\u001b[0m\n",
      "\u001b[?25hDownloading regex-2024.11.6-cp312-cp312-manylinux_2_17_x86_64.manylinux2014_x86_64.whl (796 kB)\n",
      "\u001b[2K   \u001b[90m━━━━━━━━━━━━━━━━━━━━━━━━━━━━━━━━━━━━━━━━\u001b[0m \u001b[32m796.9/796.9 kB\u001b[0m \u001b[31m27.7 MB/s\u001b[0m eta \u001b[36m0:00:00\u001b[0m\n",
      "\u001b[?25hDownloading click-8.1.7-py3-none-any.whl (97 kB)\n",
      "Downloading tqdm-4.67.1-py3-none-any.whl (78 kB)\n",
      "Installing collected packages: tqdm, regex, click, nltk\n",
      "Successfully installed click-8.1.7 nltk-3.9.1 regex-2024.11.6 tqdm-4.67.1\n",
      "Note: you may need to restart the kernel to use updated packages.\n"
     ]
    }
   ],
   "source": [
    "pip install nltk"
   ]
  },
  {
   "cell_type": "code",
   "execution_count": 2,
   "metadata": {},
   "outputs": [],
   "source": [
    "import nltk"
   ]
  },
  {
   "cell_type": "code",
   "execution_count": 3,
   "metadata": {},
   "outputs": [],
   "source": [
    "text = \"On March 3, 2022, ACM’s Executive Committee decided not to hold any conferences in Russia while the conflict in the Ukraine and the humanitarian crisis in Europe continue. This decision applies to ACM sponsored conferences and workshops as well as in-cooperation events.\""
   ]
  },
  {
   "cell_type": "code",
   "execution_count": 4,
   "metadata": {},
   "outputs": [
    {
     "name": "stderr",
     "output_type": "stream",
     "text": [
      "[nltk_data] Downloading package punkt to /home/vscode/nltk_data...\n",
      "[nltk_data]   Unzipping tokenizers/punkt.zip.\n"
     ]
    },
    {
     "data": {
      "text/plain": [
       "True"
      ]
     },
     "execution_count": 4,
     "metadata": {},
     "output_type": "execute_result"
    }
   ],
   "source": [
    "nltk.download('punkt')"
   ]
  },
  {
   "cell_type": "code",
   "execution_count": 7,
   "metadata": {},
   "outputs": [
    {
     "name": "stderr",
     "output_type": "stream",
     "text": [
      "[nltk_data] Downloading package punkt_tab to /home/vscode/nltk_data...\n"
     ]
    },
    {
     "name": "stdout",
     "output_type": "stream",
     "text": [
      "Sentence tokening the text: \n",
      "\n",
      "['On March 3, 2022, ACM’s Executive Committee decided not to hold any conferences in Russia while the conflict in the Ukraine and the humanitarian crisis in Europe continue.', 'This decision applies to ACM sponsored conferences and workshops as well as in-cooperation events.']\n"
     ]
    },
    {
     "name": "stderr",
     "output_type": "stream",
     "text": [
      "[nltk_data]   Unzipping tokenizers/punkt_tab.zip.\n"
     ]
    }
   ],
   "source": [
    "from nltk.tokenize import sent_tokenize\n",
    "nltk.download('punkt_tab')\n",
    "sent_tk = sent_tokenize(text)\n",
    "print(\"Sentence tokenizing the text: \\n\")\n",
    "print(sent_tk)"
   ]
  },
  {
   "cell_type": "code",
   "execution_count": 8,
   "metadata": {},
   "outputs": [
    {
     "name": "stdout",
     "output_type": "stream",
     "text": [
      "Word tokenizing the text: \n",
      "\n",
      "['On', 'March', '3', ',', '2022', ',', 'ACM', '’', 's', 'Executive', 'Committee', 'decided', 'not', 'to', 'hold', 'any', 'conferences', 'in', 'Russia', 'while', 'the', 'conflict', 'in', 'the', 'Ukraine', 'and', 'the', 'humanitarian', 'crisis', 'in', 'Europe', 'continue', '.', 'This', 'decision', 'applies', 'to', 'ACM', 'sponsored', 'conferences', 'and', 'workshops', 'as', 'well', 'as', 'in-cooperation', 'events', '.']\n"
     ]
    }
   ],
   "source": [
    "from nltk.tokenize import word_tokenize\n",
    "#nltk.download('punkt_tab')\n",
    "word_tk = word_tokenize(text)\n",
    "print(\"Word tokenizing the text: \\n\")\n",
    "print(word_tk)"
   ]
  },
  {
   "cell_type": "code",
   "execution_count": 9,
   "metadata": {},
   "outputs": [
    {
     "name": "stderr",
     "output_type": "stream",
     "text": [
      "[nltk_data] Downloading package stopwords to /home/vscode/nltk_data...\n",
      "[nltk_data]   Unzipping corpora/stopwords.zip.\n"
     ]
    },
    {
     "data": {
      "text/plain": [
       "True"
      ]
     },
     "execution_count": 9,
     "metadata": {},
     "output_type": "execute_result"
    }
   ],
   "source": [
    "nltk.download('stopwords')"
   ]
  },
  {
   "cell_type": "code",
   "execution_count": 10,
   "metadata": {},
   "outputs": [],
   "source": [
    "from nltk.corpus import stopwords\n",
    "\n",
    "sw = set(stopwords.words(\"english\"))"
   ]
  },
  {
   "cell_type": "code",
   "execution_count": 11,
   "metadata": {},
   "outputs": [
    {
     "name": "stdout",
     "output_type": "stream",
     "text": [
      "Stop words in English are: \n",
      "\n",
      "{'no', 'don', 'over', 'during', 'of', 'from', 'while', 'until', 'on', 'how', 'not', 'can', 'hers', 'ourselves', 'who', 'but', 'shouldn', 'it', 'was', 'again', \"you'd\", 'did', 's', 'having', 'just', 'these', 'nor', \"hasn't\", 'more', \"hadn't\", 'then', 'further', 'them', \"haven't\", 'whom', 'be', 'won', 'up', 'why', \"wasn't\", 'do', 'those', 'which', 'into', 'for', 'is', 'hadn', 'because', 'been', 'out', 'own', 'd', 'aren', 'where', 'mustn', \"weren't\", \"isn't\", 'ours', 'll', 'in', 'you', 'shan', 'my', 'our', \"mustn't\", 'isn', 'the', 'are', 'didn', 'and', 'only', \"should've\", 'too', \"mightn't\", 'ain', \"aren't\", 'wasn', 'mightn', \"won't\", \"you've\", 'he', 'each', \"shan't\", 'herself', 'will', 't', 'above', 'both', 'very', 'doing', 'to', 'i', 'had', 'below', 'such', 'o', 'by', 'about', 'itself', \"needn't\", 'couldn', 'after', 'we', 'other', 'now', 'have', 'haven', 'm', 'her', \"couldn't\", \"don't\", 'off', 'needn', 'so', 'yourselves', 'between', 'same', 'yourself', 'his', \"she's\", 'that', \"wouldn't\", 'before', 've', 'they', 'against', 'down', 'most', 'some', 'its', 'ma', 'if', 'or', \"it's\", 'does', 'under', 'any', 'through', 'being', 'this', 'am', 'once', \"that'll\", 'here', 'should', 'with', \"you're\", 'weren', 'wouldn', 'she', 'hasn', 'at', 'a', \"shouldn't\", 'an', 'all', 'than', 'few', 'themselves', 'when', 'y', 're', 'him', 'their', 'your', 'there', \"doesn't\", 'as', 'me', 'what', 'yours', \"didn't\", 'has', 'were', 'theirs', 'himself', 'doesn', \"you'll\", 'myself'}\n"
     ]
    }
   ],
   "source": [
    "print(\"Stop words in English are: \\n\")\n",
    "print(sw)"
   ]
  },
  {
   "cell_type": "code",
   "execution_count": 12,
   "metadata": {},
   "outputs": [
    {
     "name": "stdout",
     "output_type": "stream",
     "text": [
      "The text after removing stopwords: \n",
      "\n",
      "['On', 'March', '3', ',', '2022', ',', 'ACM', '’', 'Executive', 'Committee', 'decided', 'hold', 'conferences', 'Russia', 'conflict', 'Ukraine', 'humanitarian', 'crisis', 'Europe', 'continue', '.', 'This', 'decision', 'applies', 'ACM', 'sponsored', 'conferences', 'workshops', 'well', 'in-cooperation', 'events', '.']\n"
     ]
    }
   ],
   "source": [
    "filtered_words = [w for w in word_tk if not w in sw]\n",
    "print(\"The text after removing stopwords: \\n\")\n",
    "print(filtered_words)"
   ]
  },
  {
   "cell_type": "code",
   "execution_count": 13,
   "metadata": {},
   "outputs": [],
   "source": [
    "from nltk.stem import PorterStemmer\n",
    "port_stemmer = PorterStemmer()"
   ]
  },
  {
   "cell_type": "code",
   "execution_count": 15,
   "metadata": {},
   "outputs": [
    {
     "name": "stdout",
     "output_type": "stream",
     "text": [
      "Filtered sentence: \n",
      " ['On', 'March', '3', ',', '2022', ',', 'ACM', '’', 'Executive', 'Committee', 'decided', 'hold', 'conferences', 'Russia', 'conflict', 'Ukraine', 'humanitarian', 'crisis', 'Europe', 'continue', '.', 'This', 'decision', 'applies', 'ACM', 'sponsored', 'conferences', 'workshops', 'well', 'in-cooperation', 'events', '.'] \n",
      "\n",
      "Stemmed sentence: \n",
      " ['on', 'march', '3', ',', '2022', ',', 'acm', '’', 'execut', 'committe', 'decid', 'hold', 'confer', 'russia', 'conflict', 'ukrain', 'humanitarian', 'crisi', 'europ', 'continu', '.', 'thi', 'decis', 'appli', 'acm', 'sponsor', 'confer', 'workshop', 'well', 'in-cooper', 'event', '.']\n"
     ]
    }
   ],
   "source": [
    "stemmed_words = []\n",
    "\n",
    "for w in filtered_words:\n",
    "  stemmed_words.append(port_stemmer.stem(w))\n",
    "\n",
    "print(\"Filtered sentence: \\n\", filtered_words, \"\\n\")\n",
    "print(\"Stemmed sentence: \\n\", stemmed_words)"
   ]
  },
  {
   "cell_type": "code",
   "execution_count": 16,
   "metadata": {},
   "outputs": [
    {
     "name": "stderr",
     "output_type": "stream",
     "text": [
      "[nltk_data] Downloading package wordnet to /home/vscode/nltk_data...\n"
     ]
    },
    {
     "data": {
      "text/plain": [
       "True"
      ]
     },
     "execution_count": 16,
     "metadata": {},
     "output_type": "execute_result"
    }
   ],
   "source": [
    "nltk.download('wordnet')"
   ]
  },
  {
   "cell_type": "code",
   "execution_count": 17,
   "metadata": {},
   "outputs": [
    {
     "name": "stdout",
     "output_type": "stream",
     "text": [
      "['On', 'March', '3', ',', '2022', ',', 'ACM', '’', 'Executive', 'Committee', 'decided', 'hold', 'conference', 'Russia', 'conflict', 'Ukraine', 'humanitarian', 'crisis', 'Europe', 'continue', '.', 'This', 'decision', 'applies', 'ACM', 'sponsored', 'conference', 'workshop', 'well', 'in-cooperation', 'event', '.']\n"
     ]
    }
   ],
   "source": [
    "from nltk.stem.wordnet import WordNetLemmatizer\n",
    "\n",
    "lem = WordNetLemmatizer()\n",
    "\n",
    "lemm_words = []\n",
    "\n",
    "for i in range(len(filtered_words)):\n",
    "  lemm_words.append(lem.lemmatize(filtered_words[i]))\n",
    "\n",
    "print(lemm_words)"
   ]
  },
  {
   "cell_type": "code",
   "execution_count": 19,
   "metadata": {},
   "outputs": [
    {
     "name": "stderr",
     "output_type": "stream",
     "text": [
      "[nltk_data] Downloading package averaged_perceptron_tagger to\n",
      "[nltk_data]     /home/vscode/nltk_data...\n",
      "[nltk_data]   Unzipping taggers/averaged_perceptron_tagger.zip.\n"
     ]
    },
    {
     "data": {
      "text/plain": [
       "True"
      ]
     },
     "execution_count": 19,
     "metadata": {},
     "output_type": "execute_result"
    }
   ],
   "source": [
    "nltk.download('averaged_perceptron_tagger')"
   ]
  },
  {
   "cell_type": "code",
   "execution_count": 22,
   "metadata": {},
   "outputs": [
    {
     "name": "stderr",
     "output_type": "stream",
     "text": [
      "[nltk_data] Downloading package averaged_perceptron_tagger_eng to\n",
      "[nltk_data]     /home/vscode/nltk_data...\n",
      "[nltk_data]   Unzipping taggers/averaged_perceptron_tagger_eng.zip.\n"
     ]
    },
    {
     "data": {
      "text/plain": [
       "True"
      ]
     },
     "execution_count": 22,
     "metadata": {},
     "output_type": "execute_result"
    }
   ],
   "source": [
    "from nltk import pos_tag\n",
    "nltk.download('averaged_perceptron_tagger_eng')"
   ]
  },
  {
   "cell_type": "code",
   "execution_count": 23,
   "metadata": {},
   "outputs": [
    {
     "name": "stdout",
     "output_type": "stream",
     "text": [
      "[('On', 'IN'), ('March', 'NNP'), ('3', 'CD'), (',', ','), ('2022', 'CD'), (',', ','), ('ACM', 'NNP'), ('’', 'NNP'), ('s', 'NNP'), ('Executive', 'NNP'), ('Committee', 'NNP'), ('decided', 'VBD'), ('not', 'RB'), ('to', 'TO'), ('hold', 'VB'), ('any', 'DT'), ('conferences', 'NNS'), ('in', 'IN'), ('Russia', 'NNP'), ('while', 'IN'), ('the', 'DT'), ('conflict', 'NN'), ('in', 'IN'), ('the', 'DT'), ('Ukraine', 'NNP'), ('and', 'CC'), ('the', 'DT'), ('humanitarian', 'JJ'), ('crisis', 'NN'), ('in', 'IN'), ('Europe', 'NNP'), ('continue', 'VBP'), ('.', '.'), ('This', 'DT'), ('decision', 'NN'), ('applies', 'VBZ'), ('to', 'TO'), ('ACM', 'NNP'), ('sponsored', 'VBD'), ('conferences', 'NNS'), ('and', 'CC'), ('workshops', 'NNS'), ('as', 'RB'), ('well', 'RB'), ('as', 'IN'), ('in-cooperation', 'NN'), ('events', 'NNS'), ('.', '.')]\n"
     ]
    }
   ],
   "source": [
    "pos_tagged_words = pos_tag(word_tk)\n",
    "print(pos_tagged_words)"
   ]
  },
  {
   "cell_type": "code",
   "execution_count": 24,
   "metadata": {},
   "outputs": [
    {
     "name": "stdout",
     "output_type": "stream",
     "text": [
      "<FreqDist with 37 samples and 48 outcomes>\n"
     ]
    }
   ],
   "source": [
    "from nltk.probability import FreqDist\n",
    "fd = FreqDist(word_tk)\n",
    "print(fd)"
   ]
  },
  {
   "cell_type": "code",
   "execution_count": 25,
   "metadata": {},
   "outputs": [
    {
     "data": {
      "image/png": "[encoded data removed]",
      "text/plain": [
       "<Figure size 640x480 with 1 Axes>"
      ]
     },
     "metadata": {},
     "output_type": "display_data"
    }
   ],
   "source": [
    "import matplotlib.pyplot as plt\n",
    "fd.plot(30, cumulative=False)\n",
    "plt.show()"
   ]
  },
  {
   "cell_type": "code",
   "execution_count": 26,
   "metadata": {},
   "outputs": [
    {
     "name": "stdout",
     "output_type": "stream",
     "text": [
      "<FreqDist with 37 samples and 270 outcomes>\n"
     ]
    },
    {
     "data": {
      "text/plain": [
       "<Axes: xlabel='Samples', ylabel='Counts'>"
      ]
     },
     "execution_count": 26,
     "metadata": {},
     "output_type": "execute_result"
    },
    {
     "data": {
      "image/png": "[encoded data removed]",
      "text/plain": [
       "<Figure size 640x480 with 1 Axes>"
      ]
     },
     "metadata": {},
     "output_type": "display_data"
    }
   ],
   "source": [
    "fd_alpha = FreqDist(text)\n",
    "print(fd_alpha)\n",
    "fd_alpha.plot(30, cumulative=False)"
   ]
  }
 ],
 "metadata": {
  "kernelspec": {
   "display_name": "Python 3",
   "language": "python",
   "name": "python3"
  },
  "language_info": {
   "codemirror_mode": {
    "name": "ipython",
    "version": 3
   },
   "file_extension": ".py",
   "mimetype": "text/x-python",
   "name": "python",
   "nbconvert_exporter": "python",
   "pygments_lexer": "ipython3",
   "version": "3.12.8"
  }
 },
 "nbformat": 4,
 "nbformat_minor": 2
}
